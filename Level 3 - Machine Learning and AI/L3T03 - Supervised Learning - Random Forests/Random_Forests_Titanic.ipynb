{
 "cells": [
  {
   "cell_type": "markdown",
   "metadata": {
    "id": "GL6D3Pad7f1S"
   },
   "source": [
    "## Improving Decision Trees"
   ]
  },
  {
   "cell_type": "code",
   "execution_count": 107,
   "metadata": {
    "id": "pN9VMGrB7f2S"
   },
   "outputs": [],
   "source": [
    "# import packages \n",
    "import pandas as pd\n",
    "import matplotlib.pyplot as plt\n",
    "import numpy as np\n",
    "\n",
    "from sklearn.ensemble import RandomForestClassifier\n",
    "from sklearn.metrics import accuracy_score\n",
    "from sklearn.model_selection import train_test_split\n",
    "\n",
    "from sklearn.ensemble import AdaBoostClassifier\n",
    "from sklearn.ensemble import BaggingClassifier\n",
    "from sklearn.tree import DecisionTreeClassifier"
   ]
  },
  {
   "cell_type": "code",
   "execution_count": 108,
   "metadata": {},
   "outputs": [],
   "source": [
    "# Data Preprocessing\n",
    "titanic_df = pd.read_csv(\"titanic.csv\") # Load the Titanic dataset\n",
    "\n",
    "titanic_df = titanic_df.drop(columns=['PassengerId', 'Name', 'Ticket', 'Cabin'])  # Drop unnecessary columns\n",
    "titanic_df['Age'] = titanic_df['Age'].fillna(titanic_df['Age'].median())    # Fill missing values in 'Age' with the median\n",
    "titanic_df['Embarked'] = titanic_df['Embarked'].fillna(titanic_df['Embarked'].mode()[0])    # Fill missing values in 'Embarked' with the mode\n",
    "titanic_df['Sex'] = titanic_df['Sex'].map({'male': 0, 'female': 1}) # Convert categorical variable 'Sex' to numerical values\n",
    "titanic_df['Embarked'] = titanic_df['Embarked'].map({'S': 0, 'C': 1, 'Q': 2})   # Convert categorical variable 'Embarked' to numerical values\n",
    "titanic_df = titanic_df.dropna()  # Drop any remaining rows with missing values\n",
    "\n",
    "# Split the dataset into features and target variable\n",
    "X = titanic_df.drop(columns=['Survived'])\n",
    "y = titanic_df['Survived']\n",
    "\n",
    "# Split the dataset into training and testing sets\n",
    "X_train, X_test, y_train, y_test = train_test_split(X, y, test_size=0.2, random_state=42)\n"
   ]
  },
  {
   "cell_type": "code",
   "execution_count": 109,
   "metadata": {
    "id": "KmYXIFFc7f2Y",
    "outputId": "a462baff-b425-4eba-f2a4-0419e5932a6b"
   },
   "outputs": [
    {
     "name": "stdout",
     "output_type": "stream",
     "text": [
      "Accuracy of base model: 0.8100558659217877\n"
     ]
    }
   ],
   "source": [
    "# Create Random Forest model using default parameters\n",
    "titanic_rf = RandomForestClassifier(n_estimators=100, random_state=7 ,bootstrap=True)\n",
    "\n",
    "titanic_rf.fit(X_train,y_train)\n",
    "\n",
    "print(\"Accuracy of base model:\",titanic_rf.score(X_test, y_test))"
   ]
  },
  {
   "cell_type": "code",
   "execution_count": 110,
   "metadata": {},
   "outputs": [
    {
     "name": "stdout",
     "output_type": "stream",
     "text": [
      "Boosted Tree Accuracy: 0.7932960893854749\n"
     ]
    }
   ],
   "source": [
    "# Create a base estimator for our Boosted tree model using default parameters\n",
    "base_estimator = DecisionTreeClassifier(max_depth=1)\n",
    "\n",
    "# Create the AdaBoost model\n",
    "boosted_model = AdaBoostClassifier(estimator=base_estimator, n_estimators=100, learning_rate=1.0, random_state=7)\n",
    "\n",
    "# Train the model\n",
    "boosted_model.fit(X_train, y_train)\n",
    "\n",
    "# Predict and evaluate\n",
    "y_pred_boost = boosted_model.predict(X_test)\n",
    "print(\"Boosted Tree Accuracy:\", accuracy_score(y_test, y_pred_boost))"
   ]
  },
  {
   "cell_type": "markdown",
   "metadata": {},
   "source": [
    "Using default values when creating the boosted tree model showed a decrease in accuracy which suggests some tuning of hyperparameters is necessary"
   ]
  },
  {
   "cell_type": "code",
   "execution_count": 111,
   "metadata": {},
   "outputs": [
    {
     "data": {
      "image/png": "[encoded data removed]",
      "text/plain": [
       "<Figure size 1000x600 with 1 Axes>"
      ]
     },
     "metadata": {},
     "output_type": "display_data"
    }
   ],
   "source": [
    "# Determine feature importance\n",
    "importances = boosted_model.feature_importances_\n",
    "\n",
    "# Get feature names\n",
    "feature_names = X.columns\n",
    "\n",
    "# Sort feature importances in descending order\n",
    "indices = np.argsort(importances)[::-1]\n",
    "\n",
    "# Plot the feature importances\n",
    "plt.figure(figsize=(10, 6))\n",
    "plt.title(\"Feature Importances (AdaBoost)\")\n",
    "plt.bar(range(X.shape[1]), importances[indices], align=\"center\")\n",
    "plt.xticks(range(X.shape[1]), feature_names[indices], rotation=45)\n",
    "plt.tight_layout()\n",
    "plt.show()"
   ]
  },
  {
   "cell_type": "code",
   "execution_count": 112,
   "metadata": {},
   "outputs": [
    {
     "name": "stdout",
     "output_type": "stream",
     "text": [
      "Accuracy of base model: 0.8268156424581006\n"
     ]
    }
   ],
   "source": [
    "# Create default Random Forest model\n",
    "titanic_rf = RandomForestClassifier(n_estimators=40, random_state=7 ,bootstrap=True)\n",
    "\n",
    "titanic_rf.fit(X_train,y_train)\n",
    "\n",
    "print(\"Accuracy of base model:\",titanic_rf.score(X_test, y_test))"
   ]
  },
  {
   "cell_type": "code",
   "execution_count": 113,
   "metadata": {},
   "outputs": [
    {
     "name": "stdout",
     "output_type": "stream",
     "text": [
      "Boosted Tree Accuracy: 0.8212290502793296\n"
     ]
    }
   ],
   "source": [
    "# Can tuning hyperparameters improve the Boosted tree model?\n",
    "# Use the same code as previously run but with different parameters to engineer improvements\n",
    "\n",
    "# Create a base estimator for our Boosted tree model\n",
    "base_estimator = DecisionTreeClassifier(max_depth=2)\n",
    "\n",
    "# Create the AdaBoost model\n",
    "boosted_model = AdaBoostClassifier(estimator=base_estimator, n_estimators=70, learning_rate=1.0, random_state=7)\n",
    "\n",
    "# Train the model\n",
    "boosted_model.fit(X_train, y_train)\n",
    "\n",
    "# Predict and evaluate\n",
    "y_pred_boost = boosted_model.predict(X_test)\n",
    "print(\"Boosted Tree Accuracy:\", accuracy_score(y_test, y_pred_boost))"
   ]
  },
  {
   "cell_type": "markdown",
   "metadata": {},
   "source": [
    "Using different parameters in each of the Bagged, Random Forest and Boosted tree models yielded clear improvments to each from the default parameters with the following results.<br><br>\n",
    "Random Forest:<br>\n",
    "- n_estimators=45 - anything higher than 45 or lower than 40 decreased the accuracy score significantly<br>\n",
    "- Accuracy = 0.82681564<br><br>\n",
    "\n",
    "Boosted Tree:<br>\n",
    "- max_depth=2, n_estimators=70 - anything more than 5 either side of this n_estimators figure decreased accuracy significantly<br>\n",
    "- Accuracy = 0.82122905<br>\n",
    "- max_depth=3, n_estimators=70 - anything more than 5 either side of this n_estimators figure decreased accuracy significantly<br>\n",
    "- Accuracy = 0.81564246<br><br>\n",
    "\n",
    "We can see from the above results that both models yielded very similar results given enough tuning of these limited hyperparameter examples but the Random Forest model just pulled ahead. Reasons for this can be attributed to the fact that the Titanic dataset is relatively small and 'noisy' so Random Forest's bagging and feature randomness provides a strong, stable model with low variance. Boosted tree models are more sensitve to noise and overfitting which given the dataset is an inherent problem."
   ]
  }
 ],
 "metadata": {
  "colab": {
   "provenance": []
  },
  "kernelspec": {
   "display_name": "Python 3",
   "language": "python",
   "name": "python3"
  },
  "language_info": {
   "codemirror_mode": {
    "name": "ipython",
    "version": 3
   },
   "file_extension": ".py",
   "mimetype": "text/x-python",
   "name": "python",
   "nbconvert_exporter": "python",
   "pygments_lexer": "ipython3",
   "version": "3.13.1"
  }
 },
 "nbformat": 4,
 "nbformat_minor": 0
}
