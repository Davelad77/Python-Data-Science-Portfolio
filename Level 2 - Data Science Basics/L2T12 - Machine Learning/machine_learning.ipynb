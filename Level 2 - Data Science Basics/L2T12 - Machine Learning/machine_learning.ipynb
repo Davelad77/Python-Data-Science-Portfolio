{
 "cells": [
  {
   "cell_type": "markdown",
   "metadata": {
    "id": "IBb6nSAY5T4I"
   },
   "source": [
    "# Machine Learning\n",
    "## Compulsory task"
   ]
  },
  {
   "cell_type": "markdown",
   "metadata": {
    "id": "N02Qu9_f1N45"
   },
   "source": [
    "1. For each of the following examples describe at least one possible input and \n",
    "output. Justify your answers:  \n",
    "* 1.1 A self-driving car\n",
    "* 1.2 Netflix recommendation system\n",
    "* 1.3 Signature recognition\n",
    "* 1.4 Medical diagnosis\n"
   ]
  },
  {
   "cell_type": "markdown",
   "metadata": {
    "id": "-8aBqprP3ypo"
   },
   "source": [
    "1. Answer here\n",
    "\n",
    "|      | Input(s)                                                                              | Output                                                   |\n",
    "| ---- | --------------------------------------------------------------------------------------| ---------------------------------------------------------|\n",
    "| 1.1  | Distance to vehicle in front                                                          | Speed                                                    |\n",
    "| 1.2  | Genres of last 10 films watched                                                       | 3 movies in 3 most watched genres that have over X views |\n",
    "| 1.3  | Sample signature                                                                      | Signature recognised / not recognised notification       |\n",
    "| 1.4  | General health measurements (pulse, BP, temperature) plus any other specific symptoms | Diagnosis                                                |"
   ]
  },
  {
   "cell_type": "markdown",
   "metadata": {
    "id": "l_I2f4C85yNF"
   },
   "source": [
    "\n",
    "2. For each of the following case studies, determine whether it is appropriate to utilise regression or classification machine learning algorithms. Justify your answers:\n",
    "* 2.1 Classifying emails as promotion or social based on their content and metadata. \n",
    "* 2.2 Forecasting the stock price of a company based on historical data and market trends.\n",
    "* 2.3 Sorting images of animals into different species based on their visual features.\n",
    "* 2.4 Predicting the likelihood of a patient having a particular disease based on medical history and diagnostic test results. "
   ]
  },
  {
   "cell_type": "markdown",
   "metadata": {
    "id": "WgMUsqQr6qFU"
   },
   "source": [
    "2. Answer here\n",
    "* 2.1 - the emails are not already assigned to one of the two specific classifications so we would use Regression to analyse the content and metadata to determine the continuous output variable\n",
    "* 2.2 - the historical data will already be classified (i.e. price) so we would use Classification to look for patterns and trends between those input features and the unseen future data\n",
    "* 2.3 - the images are not assigned a classication so we would use Regression to analyse the input features and the corresponding outputs of other images in a training set \n",
    "* 2.4 - we would use Regression to compare the medical history and diagnostic test results to a training set of similar data pairs from other patients."
   ]
  },
  {
   "cell_type": "markdown",
   "metadata": {
    "id": "b6f8UETG64hH"
   },
   "source": [
    "3. For each of the following real-world problems, determine whether it is appropriate to utilise a supervised or unsupervised machine learning algorithm. Justify your answers:\n",
    "* 3.1 Detecting anomalies in a manufacturing process using sensor data without prior knowledge of specific anomaly patterns. \n",
    "* 3.2 Predicting customer lifetime value based on historical transaction data and customer demographics. \n",
    "* 3.3 Segmenting customer demographics based on their purchase history, browsing behaviour, and preferences. \n",
    "* 3.4 Analysing social media posts to categorise them into different themes. \n"
   ]
  },
  {
   "cell_type": "markdown",
   "metadata": {
    "id": "W6dTYBvd675O"
   },
   "source": [
    "3. Answer here\n",
    "* 3.1 - we have no prior knowledge of anomaly patterns so cannot build a training set or assign labels to various input features so Unsupervised Learning would be appropriate\n",
    "* 3.2 - we have known and easily described input variables we can use as a training set and are looking to predict specific values so Supervised Learning would be appropriate\n",
    "* 3.3 - we have known and easily described input variables we can use as a training set and are looking to predict specific values so Supervised Learning would be appropriate\n",
    "* 3.4 - we are looking to categorise social media posts rather than look for patterns or trends so Supervised would be appropriate"
   ]
  },
  {
   "cell_type": "markdown",
   "metadata": {
    "id": "bqsun96o64xe"
   },
   "source": [
    "4. \n",
    "For each of the following real-world problems, determine whether it is appropriate to utilise semi-supervised machine learning algorithms. Justify your answers:\n",
    "* 4.1 Predicting fraudulent financial transactions using a dataset where most transactions are labelled as fraudulent or legitimate.\n",
    "* 4.2 Analysing customer satisfaction surveys where only a small portion of the data is labelled with satisfaction ratings.\n",
    "* 4.3 Identifying spam emails in a dataset where the majority of emails are labelled.\n",
    "* 4.4 Predicting the probability of default for credit card applicants based on their complete financial and credit-related information.\n"
   ]
  },
  {
   "cell_type": "markdown",
   "metadata": {
    "id": "aTWugZ6q68GF"
   },
   "source": [
    "4. Answer here\n",
    "* 4.1 - Semi-supervised learning would not necessarily be appropriate as we have a dataset where MOST transactions are already labelled so Supervised learning might be more appropriate\n",
    "* 4.2 - Semi-supervised learning would be appropriate as we have a dataset where only a small portion of the data are already labelled\n",
    "* 4.3 - Semi-supervised learning would not necessarily be appropriate as we have a dataset where MOST e-mails are already labelled so Supervised learning might be more appropriate\n",
    "* 4.4 - Semi-supervised learning would not be appropriate as we have a dataset where all input features are already labelled so Supervised learning might be more appropriate"
   ]
  }
 ],
 "metadata": {
  "colab": {
   "provenance": []
  },
  "kernelspec": {
   "display_name": "Python 3",
   "name": "python3"
  },
  "language_info": {
   "name": "python"
  }
 },
 "nbformat": 4,
 "nbformat_minor": 0
}
